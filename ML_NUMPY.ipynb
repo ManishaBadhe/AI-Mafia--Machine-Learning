{
 "cells": [
  {
   "cell_type": "markdown",
   "metadata": {},
   "source": [
    "NUMPY \n",
    "ARRAYS IN NUMPY"
   ]
  },
  {
   "cell_type": "markdown",
   "metadata": {},
   "source": [
    "NumPy (Numerical Python) is a popular Python library used for scientific computing. It provides support for large, multi-dimensional arrays and matrices, along with a collection of mathematical functions to operate on these arrays."
   ]
  },
  {
   "cell_type": "code",
   "execution_count": 5,
   "metadata": {},
   "outputs": [],
   "source": [
    "import numpy as np"
   ]
  },
  {
   "cell_type": "code",
   "execution_count": 6,
   "metadata": {},
   "outputs": [
    {
     "data": {
      "text/plain": [
       "numpy.ndarray"
      ]
     },
     "execution_count": 6,
     "metadata": {},
     "output_type": "execute_result"
    }
   ],
   "source": [
    "arr = np.array([[2,3,4],[4,2,1]])\n",
    "type(arr)"
   ]
  },
  {
   "cell_type": "code",
   "execution_count": 7,
   "metadata": {},
   "outputs": [
    {
     "data": {
      "text/plain": [
       "2"
      ]
     },
     "execution_count": 7,
     "metadata": {},
     "output_type": "execute_result"
    }
   ],
   "source": [
    "arr.ndim # number of dimensions"
   ]
  },
  {
   "cell_type": "code",
   "execution_count": 8,
   "metadata": {},
   "outputs": [
    {
     "data": {
      "text/plain": [
       "(2, 3)"
      ]
     },
     "execution_count": 8,
     "metadata": {},
     "output_type": "execute_result"
    }
   ],
   "source": [
    "arr.shape # number pf rows and columns"
   ]
  },
  {
   "cell_type": "code",
   "execution_count": 9,
   "metadata": {},
   "outputs": [
    {
     "data": {
      "text/plain": [
       "6"
      ]
     },
     "execution_count": 9,
     "metadata": {},
     "output_type": "execute_result"
    }
   ],
   "source": [
    "arr.size # total number of elements"
   ]
  },
  {
   "cell_type": "code",
   "execution_count": 10,
   "metadata": {},
   "outputs": [
    {
     "data": {
      "text/plain": [
       "dtype('int32')"
      ]
     },
     "execution_count": 10,
     "metadata": {},
     "output_type": "execute_result"
    }
   ],
   "source": [
    "arr.dtype"
   ]
  },
  {
   "cell_type": "code",
   "execution_count": 11,
   "metadata": {},
   "outputs": [
    {
     "name": "stdout",
     "output_type": "stream",
     "text": [
      "array created using passed list: \n",
      " [[ 1. 23.  3.]\n",
      " [ 4.  5.  6.]]\n"
     ]
    }
   ],
   "source": [
    "\n",
    "# create array from list with type float\n",
    "a = np.array([[1,23,3],[4,5,6]], dtype='float')\n",
    "print(\"array created using passed list: \\n\", a)"
   ]
  },
  {
   "cell_type": "code",
   "execution_count": 12,
   "metadata": {},
   "outputs": [
    {
     "name": "stdout",
     "output_type": "stream",
     "text": [
      "array is : \n",
      " [[2 4 3 5]\n",
      " [4 3 4 2]]\n"
     ]
    }
   ],
   "source": [
    "#create array from tuple\n",
    "b = np.array([[2,4,3,5],[4,3,4,2]])\n",
    "print(\"array is : \\n\", b)"
   ]
  },
  {
   "cell_type": "code",
   "execution_count": 13,
   "metadata": {},
   "outputs": [
    {
     "name": "stdout",
     "output_type": "stream",
     "text": [
      "the array of zeroes is:\n",
      " [[0 0 0]\n",
      " [0 0 0]]\n"
     ]
    }
   ],
   "source": [
    "c = np.zeros((2,3),dtype= int)\n",
    "print(\"the array of zeroes is:\\n\", c)"
   ]
  },
  {
   "cell_type": "code",
   "execution_count": 14,
   "metadata": {},
   "outputs": [],
   "source": [
    "c = np.ones((2,3))\n"
   ]
  },
  {
   "cell_type": "code",
   "execution_count": 15,
   "metadata": {},
   "outputs": [
    {
     "data": {
      "text/plain": [
       "array([[1., 1., 1.],\n",
       "       [1., 1., 1.]])"
      ]
     },
     "execution_count": 15,
     "metadata": {},
     "output_type": "execute_result"
    }
   ],
   "source": [
    "c"
   ]
  },
  {
   "cell_type": "code",
   "execution_count": 16,
   "metadata": {},
   "outputs": [
    {
     "data": {
      "text/plain": [
       "array([[1., 0., 0.],\n",
       "       [0., 1., 0.],\n",
       "       [0., 0., 1.]])"
      ]
     },
     "execution_count": 16,
     "metadata": {},
     "output_type": "execute_result"
    }
   ],
   "source": [
    "np.eye(3) # identity matrix of size 3 by 3"
   ]
  },
  {
   "cell_type": "code",
   "execution_count": null,
   "metadata": {},
   "outputs": [
    {
     "name": "stdout",
     "output_type": "stream",
     "text": [
      "[ 0  5 10 15 20 25]\n"
     ]
    }
   ],
   "source": [
    "a = np.arange(0, 30, 5)\n",
    "print(a)\n",
    "# Uses start, stop, and step, use when When step size is known\n",
    "# Use arange when you know the step size and don’t need to include the endpoint."
   ]
  },
  {
   "cell_type": "code",
   "execution_count": null,
   "metadata": {},
   "outputs": [
    {
     "name": "stdout",
     "output_type": "stream",
     "text": [
      "[0.         0.55555556 1.11111111 1.66666667 2.22222222 2.77777778\n",
      " 3.33333333 3.88888889 4.44444444 5.        ]\n"
     ]
    }
   ],
   "source": [
    "b = np.linspace(0,5,10)\n",
    "print(b)\n",
    "# Uses start, stop, and num use When number of points needed is known.\n",
    "# Use linspace when you need a specific number of evenly spaced points between start and stop, including the endpoint by default."
   ]
  },
  {
   "cell_type": "code",
   "execution_count": null,
   "metadata": {},
   "outputs": [],
   "source": [
    "arr = np.array([[1,2,5],\n",
    "                [4,2,6]])\n",
    "newarr = arr.reshape(3,2)"
   ]
  },
  {
   "cell_type": "code",
   "execution_count": 20,
   "metadata": {},
   "outputs": [
    {
     "data": {
      "text/plain": [
       "array([[1, 2],\n",
       "       [5, 4],\n",
       "       [2, 6]])"
      ]
     },
     "execution_count": 20,
     "metadata": {},
     "output_type": "execute_result"
    }
   ],
   "source": [
    "newarr"
   ]
  },
  {
   "cell_type": "code",
   "execution_count": null,
   "metadata": {},
   "outputs": [],
   "source": [
    "# flattened - flatten into 1D array"
   ]
  },
  {
   "cell_type": "code",
   "execution_count": 21,
   "metadata": {},
   "outputs": [
    {
     "data": {
      "text/plain": [
       "array([[1, 2, 5],\n",
       "       [4, 2, 6]])"
      ]
     },
     "execution_count": 21,
     "metadata": {},
     "output_type": "execute_result"
    }
   ],
   "source": [
    "# Indexing \n",
    "arr"
   ]
  },
  {
   "cell_type": "code",
   "execution_count": null,
   "metadata": {},
   "outputs": [
    {
     "data": {
      "text/plain": [
       "array([[4, 2]])"
      ]
     },
     "execution_count": 25,
     "metadata": {},
     "output_type": "execute_result"
    }
   ],
   "source": [
    "arr[1:, :2] # from row 1 till end and from column start to second row, can do step size also"
   ]
  },
  {
   "cell_type": "code",
   "execution_count": 29,
   "metadata": {},
   "outputs": [
    {
     "data": {
      "text/plain": [
       "array([3, 4, 5, 6])"
      ]
     },
     "execution_count": 29,
     "metadata": {},
     "output_type": "execute_result"
    }
   ],
   "source": [
    "# Broadcasting feature:\n",
    "# add 1 to every element, if you write a+1 and it will be directed to every ele of an array\n",
    "a = np.array([2,3,4,5])\n",
    "a+1"
   ]
  },
  {
   "cell_type": "code",
   "execution_count": 28,
   "metadata": {},
   "outputs": [
    {
     "data": {
      "text/plain": [
       "array([ 4,  6,  8, 10])"
      ]
     },
     "execution_count": 28,
     "metadata": {},
     "output_type": "execute_result"
    }
   ],
   "source": [
    "a*2"
   ]
  },
  {
   "cell_type": "code",
   "execution_count": null,
   "metadata": {},
   "outputs": [
    {
     "name": "stdout",
     "output_type": "stream",
     "text": [
      "original array is : \n",
      " [[1 2 3]\n",
      " [4 5 6]\n",
      " [4 7 8]]\n",
      "transpose of array is : \n",
      " [[1 4 4]\n",
      " [2 5 7]\n",
      " [3 6 8]]\n"
     ]
    }
   ],
   "source": [
    "# Transpose of array: use a.T\n",
    "a= np.array([[1,2,3], [4,5,6],[4,7,8]])\n",
    "print(\"original array is : \\n\", a)\n",
    "print(\"transpose of array is : \\n\", a.T)"
   ]
  },
  {
   "cell_type": "code",
   "execution_count": 32,
   "metadata": {},
   "outputs": [
    {
     "name": "stdout",
     "output_type": "stream",
     "text": [
      "largest element is :  9\n",
      "rowwise max ele is :  [4 7 9]\n",
      "columnwise max ele is :  [8 9 7]\n"
     ]
    }
   ],
   "source": [
    "# rowwise maximum element, axis =1 means you want to read by rowwise\n",
    "# axis = 0 means want to read by columnwise\n",
    "arr = np.array([[2,3,4],\n",
    "               [5,6,7],\n",
    "               [8,9,0]])\n",
    "print(\"largest element is : \", arr.max())\n",
    "print(\"rowwise max ele is : \", arr.max(axis=1))\n",
    "print(\"columnwise max ele is : \", arr.max(axis=0))"
   ]
  },
  {
   "cell_type": "code",
   "execution_count": null,
   "metadata": {},
   "outputs": [
    {
     "name": "stdout",
     "output_type": "stream",
     "text": [
      "array sorted order is :  [ 2  3  4  6  7  7  8  9 10]\n",
      "rowwise : \n",
      " [[ 2  3  4]\n",
      " [ 6  7 10]\n",
      " [ 7  8  9]]\n"
     ]
    }
   ],
   "source": [
    "# Sorting:\n",
    "# specify sort algorithm - kind = 'mergesort' \n",
    "a = np.array([[2,3,4],[10,6,7],[7,8,9]])\n",
    "print(\"array sorted order is : \", np.sort(a, axis=None))\n",
    "\n",
    "print(\"rowwise : \\n\", np.sort(a, axis=1))\n",
    "\n",
    "print(\"column-wise: \\n\", np.sort(a, axis=0, kind='mergesort'))"
   ]
  },
  {
   "cell_type": "code",
   "execution_count": null,
   "metadata": {},
   "outputs": [],
   "source": [
    "# Stacking and Splitting:\n",
    "# np.vstack - to stack arrays along vertical axis\n",
    "# np.hstack - to stack arrays along horizontal axis\n",
    "# np.column_stack - to stack 1-D arrays as columns into 2D arrays.\n",
    "# np.concatenate - to stack arrays along specified axis(axis is passed as argument)\n",
    "\n",
    "# np.split - to split an array into sub-arrays of equal size along specified axis(axis is passed)\n",
    "# np.hsplit\n",
    "# np.vsplit\n",
    "# np.array_split- split array along specified axis\n",
    "\n",
    "# More functions:\n",
    "# min,max\n",
    "# mean\n",
    "# median\n",
    "# average\n",
    "# variance\n",
    "# standard deviation\n"
   ]
  }
 ],
 "metadata": {
  "kernelspec": {
   "display_name": "Python 3",
   "language": "python",
   "name": "python3"
  },
  "language_info": {
   "codemirror_mode": {
    "name": "ipython",
    "version": 3
   },
   "file_extension": ".py",
   "mimetype": "text/x-python",
   "name": "python",
   "nbconvert_exporter": "python",
   "pygments_lexer": "ipython3",
   "version": "3.12.3"
  }
 },
 "nbformat": 4,
 "nbformat_minor": 2
}
